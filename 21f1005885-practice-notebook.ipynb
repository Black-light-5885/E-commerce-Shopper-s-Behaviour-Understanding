{
 "cells": [
  {
   "cell_type": "code",
   "execution_count": 1,
   "id": "9c0575fa",
   "metadata": {
    "_cell_guid": "b1076dfc-b9ad-4769-8c92-a6c4dae69d19",
    "_uuid": "8f2839f25d086af736a60e9eeb907d3b93b6e0e5",
    "execution": {
     "iopub.execute_input": "2023-03-31T19:39:34.417949Z",
     "iopub.status.busy": "2023-03-31T19:39:34.417561Z",
     "iopub.status.idle": "2023-03-31T19:39:34.434938Z",
     "shell.execute_reply": "2023-03-31T19:39:34.433221Z"
    },
    "papermill": {
     "duration": 0.031348,
     "end_time": "2023-03-31T19:39:34.437630",
     "exception": false,
     "start_time": "2023-03-31T19:39:34.406282",
     "status": "completed"
    },
    "tags": []
   },
   "outputs": [
    {
     "name": "stdout",
     "output_type": "stream",
     "text": [
      "/kaggle/input/e-commerce-shoppers-behaviour-understanding/test_data_v2.csv\n",
      "/kaggle/input/e-commerce-shoppers-behaviour-understanding/train_data_v2.csv\n",
      "/kaggle/input/e-commerce-shoppers-behaviour-understanding/sample.csv\n"
     ]
    }
   ],
   "source": [
    "##### This Python 3 environment comes with many helpful analytics libraries installed\n",
    "# It is defined by the kaggle/python Docker image: https://github.com/kaggle/docker-python\n",
    "# For example, here's several helpful packages to load\n",
    "\n",
    "import numpy as np # linear algebra\n",
    "import pandas as pd # data processing, CSV file I/O (e.g. pd.read_csv)\n",
    "\n",
    "# Input data files are available in the read-only \"../input/\" directory\n",
    "# For example, running this (by clicking run or pressing Shift+Enter) will list all files under the input directory\n",
    "\n",
    "import os\n",
    "for dirname, _, filenames in os.walk('/kaggle/input'):\n",
    "    for filename in filenames:\n",
    "        print(os.path.join(dirname, filename))\n",
    "\n",
    "# You can write up to 20GB to the current directory (/kaggle/working/) that gets preserved as output when you create a version using \"Save & Run All\" \n",
    "# You can also write temporary files to /kaggle/temp/, but they won't be saved outside of the current session"
   ]
  },
  {
   "cell_type": "code",
   "execution_count": 2,
   "id": "061771cf",
   "metadata": {
    "execution": {
     "iopub.execute_input": "2023-03-31T19:39:34.457497Z",
     "iopub.status.busy": "2023-03-31T19:39:34.457110Z",
     "iopub.status.idle": "2023-03-31T19:39:36.389492Z",
     "shell.execute_reply": "2023-03-31T19:39:36.387443Z"
    },
    "papermill": {
     "duration": 1.945752,
     "end_time": "2023-03-31T19:39:36.392300",
     "exception": false,
     "start_time": "2023-03-31T19:39:34.446548",
     "status": "completed"
    },
    "tags": []
   },
   "outputs": [],
   "source": [
    "from sklearn.preprocessing import StandardScaler\n",
    "from sklearn.impute import SimpleImputer\n",
    "from sklearn.ensemble import RandomForestClassifier, GradientBoostingClassifier,AdaBoostClassifier\n",
    "from sklearn.linear_model import LogisticRegression\n",
    "from sklearn.metrics import f1_score, confusion_matrix,ConfusionMatrixDisplay, classification_report\n",
    "from sklearn.model_selection import train_test_split,cross_val_score,cross_validate,ShuffleSplit\n",
    "import seaborn as sns\n",
    "import matplotlib.pyplot as plt\n",
    "from sklearn.neighbors import KNeighborsClassifier\n",
    "from sklearn.svm import SVC"
   ]
  },
  {
   "cell_type": "code",
   "execution_count": 3,
   "id": "934f43a2",
   "metadata": {
    "execution": {
     "iopub.execute_input": "2023-03-31T19:39:36.410548Z",
     "iopub.status.busy": "2023-03-31T19:39:36.410182Z",
     "iopub.status.idle": "2023-03-31T19:39:36.415586Z",
     "shell.execute_reply": "2023-03-31T19:39:36.414456Z"
    },
    "papermill": {
     "duration": 0.018507,
     "end_time": "2023-03-31T19:39:36.418992",
     "exception": false,
     "start_time": "2023-03-31T19:39:36.400485",
     "status": "completed"
    },
    "tags": []
   },
   "outputs": [],
   "source": [
    "import itertools"
   ]
  },
  {
   "cell_type": "code",
   "execution_count": 4,
   "id": "60a70160",
   "metadata": {
    "execution": {
     "iopub.execute_input": "2023-03-31T19:39:36.439900Z",
     "iopub.status.busy": "2023-03-31T19:39:36.439461Z",
     "iopub.status.idle": "2023-03-31T19:39:36.516841Z",
     "shell.execute_reply": "2023-03-31T19:39:36.515992Z"
    },
    "papermill": {
     "duration": 0.091065,
     "end_time": "2023-03-31T19:39:36.519082",
     "exception": false,
     "start_time": "2023-03-31T19:39:36.428017",
     "status": "completed"
    },
    "tags": []
   },
   "outputs": [],
   "source": [
    "bsd= pd.read_csv('/kaggle/input/e-commerce-shoppers-behaviour-understanding/train_data_v2.csv')"
   ]
  },
  {
   "cell_type": "code",
   "execution_count": 5,
   "id": "f37d3352",
   "metadata": {
    "execution": {
     "iopub.execute_input": "2023-03-31T19:39:36.536733Z",
     "iopub.status.busy": "2023-03-31T19:39:36.536305Z",
     "iopub.status.idle": "2023-03-31T19:39:36.559113Z",
     "shell.execute_reply": "2023-03-31T19:39:36.558200Z"
    },
    "papermill": {
     "duration": 0.034316,
     "end_time": "2023-03-31T19:39:36.561459",
     "exception": false,
     "start_time": "2023-03-31T19:39:36.527143",
     "status": "completed"
    },
    "tags": []
   },
   "outputs": [],
   "source": [
    "a =bsd.select_dtypes(include =['float64','bool'])"
   ]
  },
  {
   "cell_type": "code",
   "execution_count": 6,
   "id": "0320236d",
   "metadata": {
    "execution": {
     "iopub.execute_input": "2023-03-31T19:39:36.579860Z",
     "iopub.status.busy": "2023-03-31T19:39:36.578617Z",
     "iopub.status.idle": "2023-03-31T19:39:36.584494Z",
     "shell.execute_reply": "2023-03-31T19:39:36.583154Z"
    },
    "papermill": {
     "duration": 0.016933,
     "end_time": "2023-03-31T19:39:36.586309",
     "exception": false,
     "start_time": "2023-03-31T19:39:36.569376",
     "status": "completed"
    },
    "tags": []
   },
   "outputs": [],
   "source": [
    "col = a.columns.tolist()"
   ]
  },
  {
   "cell_type": "code",
   "execution_count": 7,
   "id": "da41f638",
   "metadata": {
    "execution": {
     "iopub.execute_input": "2023-03-31T19:39:36.603169Z",
     "iopub.status.busy": "2023-03-31T19:39:36.602828Z",
     "iopub.status.idle": "2023-03-31T19:39:36.610776Z",
     "shell.execute_reply": "2023-03-31T19:39:36.609238Z"
    },
    "papermill": {
     "duration": 0.019673,
     "end_time": "2023-03-31T19:39:36.613402",
     "exception": false,
     "start_time": "2023-03-31T19:39:36.593729",
     "status": "completed"
    },
    "tags": []
   },
   "outputs": [
    {
     "data": {
      "text/plain": [
       "14"
      ]
     },
     "execution_count": 7,
     "metadata": {},
     "output_type": "execute_result"
    }
   ],
   "source": [
    "len(col[:-2])"
   ]
  },
  {
   "cell_type": "code",
   "execution_count": 8,
   "id": "620a5a06",
   "metadata": {
    "execution": {
     "iopub.execute_input": "2023-03-31T19:39:36.632490Z",
     "iopub.status.busy": "2023-03-31T19:39:36.632153Z",
     "iopub.status.idle": "2023-03-31T19:39:36.638066Z",
     "shell.execute_reply": "2023-03-31T19:39:36.635876Z"
    },
    "papermill": {
     "duration": 0.01852,
     "end_time": "2023-03-31T19:39:36.641105",
     "exception": false,
     "start_time": "2023-03-31T19:39:36.622585",
     "status": "completed"
    },
    "tags": []
   },
   "outputs": [],
   "source": [
    "col = list(bsd.columns)"
   ]
  },
  {
   "cell_type": "code",
   "execution_count": 9,
   "id": "3eb1dd5e",
   "metadata": {
    "execution": {
     "iopub.execute_input": "2023-03-31T19:39:36.659239Z",
     "iopub.status.busy": "2023-03-31T19:39:36.658891Z",
     "iopub.status.idle": "2023-03-31T19:39:36.667281Z",
     "shell.execute_reply": "2023-03-31T19:39:36.665784Z"
    },
    "papermill": {
     "duration": 0.02084,
     "end_time": "2023-03-31T19:39:36.670004",
     "exception": false,
     "start_time": "2023-03-31T19:39:36.649164",
     "status": "completed"
    },
    "tags": []
   },
   "outputs": [
    {
     "data": {
      "text/plain": [
       "['HomePage',\n",
       " 'HomePage_Duration',\n",
       " 'LandingPage',\n",
       " 'LandingPage_Duration',\n",
       " 'ProductDescriptionPage',\n",
       " 'ProductDescriptionPage_Duration',\n",
       " 'GoogleMetric:Bounce Rates',\n",
       " 'GoogleMetric:Exit Rates',\n",
       " 'GoogleMetric:Page Values',\n",
       " 'SeasonalPurchase',\n",
       " 'Month_SeasonalPurchase',\n",
       " 'OS',\n",
       " 'SearchEngine',\n",
       " 'Zone',\n",
       " 'Type of Traffic',\n",
       " 'CustomerType',\n",
       " 'Gender',\n",
       " 'Cookies Setting',\n",
       " 'Education',\n",
       " 'Marital Status',\n",
       " 'WeekendPurchase',\n",
       " 'Made_Purchase']"
      ]
     },
     "execution_count": 9,
     "metadata": {},
     "output_type": "execute_result"
    }
   ],
   "source": [
    "col"
   ]
  },
  {
   "cell_type": "code",
   "execution_count": 10,
   "id": "65f3a3ac",
   "metadata": {
    "execution": {
     "iopub.execute_input": "2023-03-31T19:39:36.688395Z",
     "iopub.status.busy": "2023-03-31T19:39:36.688035Z",
     "iopub.status.idle": "2023-03-31T19:39:36.693464Z",
     "shell.execute_reply": "2023-03-31T19:39:36.692074Z"
    },
    "papermill": {
     "duration": 0.017489,
     "end_time": "2023-03-31T19:39:36.695561",
     "exception": false,
     "start_time": "2023-03-31T19:39:36.678072",
     "status": "completed"
    },
    "tags": []
   },
   "outputs": [],
   "source": [
    "ab = itertools.combinations(col[:-2],13)"
   ]
  },
  {
   "cell_type": "code",
   "execution_count": 11,
   "id": "a4270419",
   "metadata": {
    "execution": {
     "iopub.execute_input": "2023-03-31T19:39:36.714755Z",
     "iopub.status.busy": "2023-03-31T19:39:36.714341Z",
     "iopub.status.idle": "2023-03-31T19:39:36.721581Z",
     "shell.execute_reply": "2023-03-31T19:39:36.719624Z"
    },
    "papermill": {
     "duration": 0.019899,
     "end_time": "2023-03-31T19:39:36.723917",
     "exception": false,
     "start_time": "2023-03-31T19:39:36.704018",
     "status": "completed"
    },
    "tags": []
   },
   "outputs": [],
   "source": [
    "# y = train_data[['Made_Purchase']]\n",
    "\n",
    "# train_data.columns\n",
    "\n",
    "# train_data.drop(columns = [ 'Gender', 'Education', 'Marital Status','Made_Purchase'],axis = 1,inplace = True)\n",
    "\n",
    "# train_data = pd.get_dummies( train_data)\n",
    "\n",
    "# columns=train_data.dtypes.reset_index()\n",
    "\n",
    "# columns\n",
    "\n",
    "# # selected_columns = columns[columns[0]=='float64']['index'].values\n",
    "\n",
    "# # selected_columns\n",
    "\n",
    "# x_train=train_data\n",
    "# y_train=y\n",
    "\n",
    "# from sklearn.ensemble import RandomForestClassifier, GradientBoostingClassifier\n",
    "\n",
    "# clf=GradientBoostingClassifier()\n",
    "\n",
    "# rdf = RandomForestClassifier()\n",
    "\n",
    "# x_train = x_train.fillna(0)\n",
    "\n",
    "# clf.fit(x_train,y_train)\n",
    "\n",
    "# from sklearn.metrics import accuracy_score\n",
    "\n",
    "# accuracy_score(y_train, clf.predict(x_train))\n",
    "\n",
    "# test_data = pd.read_csv('/kaggle/input/e-commerce-shoppers-behaviour-understanding/test_data_v2.csv')\n",
    "\n",
    "# x_test=test_data\n",
    "\n",
    "# x_test.drop(columns = [ 'Gender', 'Education', 'Marital Status'],axis = 1,inplace = True)\n",
    "\n",
    "# x_test = pd.get_dummies( x_test)\n",
    "\n",
    "# x_test = x_test.fillna(0)\n",
    "\n",
    "# prediction=clf.predict(x_test)"
   ]
  },
  {
   "cell_type": "code",
   "execution_count": 12,
   "id": "350451aa",
   "metadata": {
    "execution": {
     "iopub.execute_input": "2023-03-31T19:39:36.743370Z",
     "iopub.status.busy": "2023-03-31T19:39:36.742989Z",
     "iopub.status.idle": "2023-03-31T19:39:36.750483Z",
     "shell.execute_reply": "2023-03-31T19:39:36.749387Z"
    },
    "papermill": {
     "duration": 0.02011,
     "end_time": "2023-03-31T19:39:36.753014",
     "exception": false,
     "start_time": "2023-03-31T19:39:36.732904",
     "status": "completed"
    },
    "tags": []
   },
   "outputs": [],
   "source": [
    "train_data = bsd.copy()"
   ]
  },
  {
   "cell_type": "code",
   "execution_count": 13,
   "id": "e88f7c79",
   "metadata": {
    "execution": {
     "iopub.execute_input": "2023-03-31T19:39:36.772946Z",
     "iopub.status.busy": "2023-03-31T19:39:36.772571Z",
     "iopub.status.idle": "2023-03-31T19:39:36.778979Z",
     "shell.execute_reply": "2023-03-31T19:39:36.777551Z"
    },
    "papermill": {
     "duration": 0.019195,
     "end_time": "2023-03-31T19:39:36.781568",
     "exception": false,
     "start_time": "2023-03-31T19:39:36.762373",
     "status": "completed"
    },
    "tags": []
   },
   "outputs": [],
   "source": [
    "def pre_process(df1,a):\n",
    "#     df.drop(columns = ['Month_SeasonalPurchase','HomePage', 'HomePage_Duration', 'LandingPage','CustomerType', 'Gender',\n",
    "#        'Education', 'Marital Status','OS', 'SearchEngine', 'Zone'],inplace = True)\n",
    "#     df= df.select_dtypes(include =['float64','bool'])\n",
    "    df = df1.copy()\n",
    "    df = df[a]\n",
    "    cat_imp = SimpleImputer(strategy=\"mean\")\n",
    "    std = StandardScaler()\n",
    "    df = pd.get_dummies(df)\n",
    "    df = cat_imp.fit_transform(df)\n",
    "#     df = std.fit_transform(df)\n",
    "    return df"
   ]
  },
  {
   "cell_type": "code",
   "execution_count": 14,
   "id": "f8ced06c",
   "metadata": {
    "execution": {
     "iopub.execute_input": "2023-03-31T19:39:36.800103Z",
     "iopub.status.busy": "2023-03-31T19:39:36.799469Z",
     "iopub.status.idle": "2023-03-31T19:39:36.806160Z",
     "shell.execute_reply": "2023-03-31T19:39:36.804980Z"
    },
    "papermill": {
     "duration": 0.018406,
     "end_time": "2023-03-31T19:39:36.808298",
     "exception": false,
     "start_time": "2023-03-31T19:39:36.789892",
     "status": "completed"
    },
    "tags": []
   },
   "outputs": [],
   "source": [
    "def pre_process_1(df1):\n",
    "#     df.drop(columns = ['Month_SeasonalPurchase','HomePage', 'HomePage_Duration', 'LandingPage','CustomerType', 'Gender',\n",
    "#        'Education', 'Marital Status','OS', 'SearchEngine', 'Zone'],inplace = True)\n",
    "#     df= df.select_dtypes(include =['float64','bool'])\n",
    "    df = df1.copy()\n",
    "    df = df[['ProductDescriptionPage_Duration', 'GoogleMetric:Exit Rates','GoogleMetric:Page Values']]\n",
    "    cat_imp = SimpleImputer(strategy=\"mean\")\n",
    "    std = StandardScaler()\n",
    "    df = cat_imp.fit_transform(df)\n",
    "    df = std.fit_transform(df)\n",
    "    return df"
   ]
  },
  {
   "cell_type": "code",
   "execution_count": 15,
   "id": "7d346f7d",
   "metadata": {
    "execution": {
     "iopub.execute_input": "2023-03-31T19:39:36.826981Z",
     "iopub.status.busy": "2023-03-31T19:39:36.826574Z",
     "iopub.status.idle": "2023-03-31T19:39:36.835539Z",
     "shell.execute_reply": "2023-03-31T19:39:36.834421Z"
    },
    "papermill": {
     "duration": 0.021376,
     "end_time": "2023-03-31T19:39:36.838120",
     "exception": false,
     "start_time": "2023-03-31T19:39:36.816744",
     "status": "completed"
    },
    "tags": []
   },
   "outputs": [],
   "source": [
    "y_1 = train_data.Made_Purchase"
   ]
  },
  {
   "cell_type": "code",
   "execution_count": 16,
   "id": "b49919a2",
   "metadata": {
    "execution": {
     "iopub.execute_input": "2023-03-31T19:39:36.856498Z",
     "iopub.status.busy": "2023-03-31T19:39:36.856144Z",
     "iopub.status.idle": "2023-03-31T19:39:36.864555Z",
     "shell.execute_reply": "2023-03-31T19:39:36.863502Z"
    },
    "papermill": {
     "duration": 0.020255,
     "end_time": "2023-03-31T19:39:36.867020",
     "exception": false,
     "start_time": "2023-03-31T19:39:36.846765",
     "status": "completed"
    },
    "tags": []
   },
   "outputs": [],
   "source": [
    "train_data.drop(columns = ['Made_Purchase'], inplace = True)"
   ]
  },
  {
   "cell_type": "code",
   "execution_count": 17,
   "id": "869619f5",
   "metadata": {
    "execution": {
     "iopub.execute_input": "2023-03-31T19:39:36.884777Z",
     "iopub.status.busy": "2023-03-31T19:39:36.884401Z",
     "iopub.status.idle": "2023-03-31T19:39:36.889990Z",
     "shell.execute_reply": "2023-03-31T19:39:36.888038Z"
    },
    "papermill": {
     "duration": 0.017797,
     "end_time": "2023-03-31T19:39:36.892725",
     "exception": false,
     "start_time": "2023-03-31T19:39:36.874928",
     "status": "completed"
    },
    "tags": []
   },
   "outputs": [],
   "source": [
    "# xtr,xts,ytr,yts = train_test_split(train_data,y_1,test_size = 0.2)"
   ]
  },
  {
   "cell_type": "code",
   "execution_count": 18,
   "id": "7bb0c9e2",
   "metadata": {
    "execution": {
     "iopub.execute_input": "2023-03-31T19:39:36.912233Z",
     "iopub.status.busy": "2023-03-31T19:39:36.911258Z",
     "iopub.status.idle": "2023-03-31T19:39:36.922633Z",
     "shell.execute_reply": "2023-03-31T19:39:36.921572Z"
    },
    "papermill": {
     "duration": 0.023885,
     "end_time": "2023-03-31T19:39:36.925044",
     "exception": false,
     "start_time": "2023-03-31T19:39:36.901159",
     "status": "completed"
    },
    "tags": []
   },
   "outputs": [],
   "source": [
    "pre_data = pre_process_1(train_data)\n",
    "# xts = pre_process(xts)"
   ]
  },
  {
   "cell_type": "code",
   "execution_count": 19,
   "id": "729acf2b",
   "metadata": {
    "execution": {
     "iopub.execute_input": "2023-03-31T19:39:36.944537Z",
     "iopub.status.busy": "2023-03-31T19:39:36.944072Z",
     "iopub.status.idle": "2023-03-31T19:39:36.950797Z",
     "shell.execute_reply": "2023-03-31T19:39:36.948684Z"
    },
    "papermill": {
     "duration": 0.020187,
     "end_time": "2023-03-31T19:39:36.953392",
     "exception": false,
     "start_time": "2023-03-31T19:39:36.933205",
     "status": "completed"
    },
    "tags": []
   },
   "outputs": [],
   "source": [
    "rdf = RandomForestClassifier(random_state=1)\n",
    "clf = GradientBoostingClassifier(random_state=1)\n",
    "adc = AdaBoostClassifier(random_state=1 ,n_estimators = 50,learning_rate=0.5)\n",
    "lg = LogisticRegression(random_state=1)"
   ]
  },
  {
   "cell_type": "code",
   "execution_count": 20,
   "id": "3b10d635",
   "metadata": {
    "execution": {
     "iopub.execute_input": "2023-03-31T19:39:36.974071Z",
     "iopub.status.busy": "2023-03-31T19:39:36.973691Z",
     "iopub.status.idle": "2023-03-31T19:39:36.979275Z",
     "shell.execute_reply": "2023-03-31T19:39:36.977134Z"
    },
    "papermill": {
     "duration": 0.020089,
     "end_time": "2023-03-31T19:39:36.982273",
     "exception": false,
     "start_time": "2023-03-31T19:39:36.962184",
     "status": "completed"
    },
    "tags": []
   },
   "outputs": [],
   "source": [
    "# rdf.fit(pre_data,ytr)\n",
    "# clf.fit(pre_data,ytr)\n",
    "# adc.fit(pre_data,ytr)"
   ]
  },
  {
   "cell_type": "code",
   "execution_count": 21,
   "id": "49346f5e",
   "metadata": {
    "execution": {
     "iopub.execute_input": "2023-03-31T19:39:37.001021Z",
     "iopub.status.busy": "2023-03-31T19:39:37.000626Z",
     "iopub.status.idle": "2023-03-31T19:39:37.006040Z",
     "shell.execute_reply": "2023-03-31T19:39:37.004979Z"
    },
    "papermill": {
     "duration": 0.017622,
     "end_time": "2023-03-31T19:39:37.008438",
     "exception": false,
     "start_time": "2023-03-31T19:39:36.990816",
     "status": "completed"
    },
    "tags": []
   },
   "outputs": [],
   "source": [
    "cv = ShuffleSplit( test_size = 0.2, random_state = 1)"
   ]
  },
  {
   "cell_type": "code",
   "execution_count": 22,
   "id": "a9b44c1a",
   "metadata": {
    "execution": {
     "iopub.execute_input": "2023-03-31T19:39:37.026614Z",
     "iopub.status.busy": "2023-03-31T19:39:37.026257Z",
     "iopub.status.idle": "2023-03-31T19:39:37.031763Z",
     "shell.execute_reply": "2023-03-31T19:39:37.030718Z"
    },
    "papermill": {
     "duration": 0.017384,
     "end_time": "2023-03-31T19:39:37.034143",
     "exception": false,
     "start_time": "2023-03-31T19:39:37.016759",
     "status": "completed"
    },
    "tags": []
   },
   "outputs": [],
   "source": [
    "def train_classifier(estimator, x_tr,y_tr,cv,name):\n",
    "    estimator.fit(x_tr,y_tr)\n",
    "    cross_train_score = cross_val_score(estimator,x_tr,y_tr, cv = cv, scoring='f1_macro')\n",
    "    return (f'f1 score {cross_train_score.mean():3f} and std of {cross_train_score.std():3f}')"
   ]
  },
  {
   "cell_type": "code",
   "execution_count": 23,
   "id": "32ca4f55",
   "metadata": {
    "execution": {
     "iopub.execute_input": "2023-03-31T19:39:37.052278Z",
     "iopub.status.busy": "2023-03-31T19:39:37.051906Z",
     "iopub.status.idle": "2023-03-31T19:39:37.056554Z",
     "shell.execute_reply": "2023-03-31T19:39:37.055598Z"
    },
    "papermill": {
     "duration": 0.016827,
     "end_time": "2023-03-31T19:39:37.059194",
     "exception": false,
     "start_time": "2023-03-31T19:39:37.042367",
     "status": "completed"
    },
    "tags": []
   },
   "outputs": [],
   "source": [
    "import warnings\n",
    "warnings.filterwarnings('ignore')"
   ]
  },
  {
   "cell_type": "code",
   "execution_count": 24,
   "id": "2a7196ba",
   "metadata": {
    "execution": {
     "iopub.execute_input": "2023-03-31T19:39:37.078847Z",
     "iopub.status.busy": "2023-03-31T19:39:37.078407Z",
     "iopub.status.idle": "2023-03-31T19:39:37.083810Z",
     "shell.execute_reply": "2023-03-31T19:39:37.082244Z"
    },
    "papermill": {
     "duration": 0.019534,
     "end_time": "2023-03-31T19:39:37.087018",
     "exception": false,
     "start_time": "2023-03-31T19:39:37.067484",
     "status": "completed"
    },
    "tags": []
   },
   "outputs": [],
   "source": [
    "# for a in ab:\n",
    "#     print(a)"
   ]
  },
  {
   "cell_type": "code",
   "execution_count": 25,
   "id": "1630a848",
   "metadata": {
    "execution": {
     "iopub.execute_input": "2023-03-31T19:39:37.106467Z",
     "iopub.status.busy": "2023-03-31T19:39:37.106113Z",
     "iopub.status.idle": "2023-03-31T19:39:37.111354Z",
     "shell.execute_reply": "2023-03-31T19:39:37.110185Z"
    },
    "papermill": {
     "duration": 0.017607,
     "end_time": "2023-03-31T19:39:37.113430",
     "exception": false,
     "start_time": "2023-03-31T19:39:37.095823",
     "status": "completed"
    },
    "tags": []
   },
   "outputs": [],
   "source": [
    "ab = itertools.combinations(col[:-2],2)"
   ]
  },
  {
   "cell_type": "code",
   "execution_count": 26,
   "id": "b7839f88",
   "metadata": {
    "execution": {
     "iopub.execute_input": "2023-03-31T19:39:37.132483Z",
     "iopub.status.busy": "2023-03-31T19:39:37.132082Z",
     "iopub.status.idle": "2023-03-31T19:39:37.137377Z",
     "shell.execute_reply": "2023-03-31T19:39:37.136266Z"
    },
    "papermill": {
     "duration": 0.018062,
     "end_time": "2023-03-31T19:39:37.139996",
     "exception": false,
     "start_time": "2023-03-31T19:39:37.121934",
     "status": "completed"
    },
    "tags": []
   },
   "outputs": [],
   "source": [
    "# l =[]\n",
    "# mas = 0\n",
    "# for a in ab:\n",
    "#     a = list(a)\n",
    "# #     print('----------')\n",
    "# #     print(a)\n",
    "#     adc.fit(pre_process(bsd,a),y_1)\n",
    "#     l.append(f1_score(y_1,adc.predict(pre_process(bsd,a))))\n",
    "#     rdf.fit(pre_process(bsd,a),y_1)\n",
    "#     l.append(f1_score(y_1,rdf.predict(pre_process(bsd,a))))\n",
    "#     clf.fit(pre_process(bsd,a),y_1)\n",
    "#     l.append(f1_score(y_1,clf.predict(pre_process(bsd,a))))\n",
    "#     if max(l)>mas:\n",
    "#         print(a)\n",
    "#         mas = max(l)\n",
    "#         print(mas)\n",
    "# print('-----', max(l))\n",
    "#     r = train_classifier(rdf,pre_process(bsd,a),y_1,cv,'nana')\n"
   ]
  },
  {
   "cell_type": "code",
   "execution_count": 27,
   "id": "96a07aa8",
   "metadata": {
    "execution": {
     "iopub.execute_input": "2023-03-31T19:39:37.158556Z",
     "iopub.status.busy": "2023-03-31T19:39:37.158105Z",
     "iopub.status.idle": "2023-03-31T19:39:41.252522Z",
     "shell.execute_reply": "2023-03-31T19:39:41.251120Z"
    },
    "papermill": {
     "duration": 4.106965,
     "end_time": "2023-03-31T19:39:41.255313",
     "exception": false,
     "start_time": "2023-03-31T19:39:37.148348",
     "status": "completed"
    },
    "tags": []
   },
   "outputs": [
    {
     "data": {
      "text/plain": [
       "'f1 score 0.573853 and std of 0.008402'"
      ]
     },
     "execution_count": 27,
     "metadata": {},
     "output_type": "execute_result"
    }
   ],
   "source": [
    "train_classifier(adc,pre_data,y_1,cv,'nana')"
   ]
  },
  {
   "cell_type": "code",
   "execution_count": 28,
   "id": "2b7b8dec",
   "metadata": {
    "execution": {
     "iopub.execute_input": "2023-03-31T19:39:41.273652Z",
     "iopub.status.busy": "2023-03-31T19:39:41.273284Z",
     "iopub.status.idle": "2023-03-31T19:39:41.280887Z",
     "shell.execute_reply": "2023-03-31T19:39:41.278813Z"
    },
    "papermill": {
     "duration": 0.019897,
     "end_time": "2023-03-31T19:39:41.283670",
     "exception": false,
     "start_time": "2023-03-31T19:39:41.263773",
     "status": "completed"
    },
    "tags": []
   },
   "outputs": [],
   "source": [
    "def evoluation(estimator,x_ts,y_ts):\n",
    "    y_p = estimator.predict(x_ts)\n",
    "    print(confusion_matrix(y_ts,y_p))\n",
    "    conf_mat = ConfusionMatrixDisplay(confusion_matrix=confusion_matrix(y_ts,y_p))\n",
    "    conf_mat.plot()\n",
    "    plt.title('confusion matrix')\n",
    "    plt.show()"
   ]
  },
  {
   "cell_type": "code",
   "execution_count": 29,
   "id": "2914ec22",
   "metadata": {
    "execution": {
     "iopub.execute_input": "2023-03-31T19:39:41.301898Z",
     "iopub.status.busy": "2023-03-31T19:39:41.301521Z",
     "iopub.status.idle": "2023-03-31T19:39:43.782677Z",
     "shell.execute_reply": "2023-03-31T19:39:43.781714Z"
    },
    "papermill": {
     "duration": 2.493267,
     "end_time": "2023-03-31T19:39:43.785363",
     "exception": false,
     "start_time": "2023-03-31T19:39:41.292096",
     "status": "completed"
    },
    "tags": []
   },
   "outputs": [
    {
     "data": {
      "text/plain": [
       "RandomForestClassifier(random_state=1)"
      ]
     },
     "execution_count": 29,
     "metadata": {},
     "output_type": "execute_result"
    }
   ],
   "source": [
    "rdf.fit(pre_data,y_1)"
   ]
  },
  {
   "cell_type": "code",
   "execution_count": 30,
   "id": "22d009ce",
   "metadata": {
    "execution": {
     "iopub.execute_input": "2023-03-31T19:39:43.804912Z",
     "iopub.status.busy": "2023-03-31T19:39:43.804539Z",
     "iopub.status.idle": "2023-03-31T19:39:44.443840Z",
     "shell.execute_reply": "2023-03-31T19:39:44.443090Z"
    },
    "papermill": {
     "duration": 0.651599,
     "end_time": "2023-03-31T19:39:44.445854",
     "exception": false,
     "start_time": "2023-03-31T19:39:43.794255",
     "status": "completed"
    },
    "tags": []
   },
   "outputs": [
    {
     "name": "stdout",
     "output_type": "stream",
     "text": [
      "[[8247  818]\n",
      " [2264 3402]]\n"
     ]
    },
    {
     "data": {
      "image/png": "[encoded data removed]",
      "text/plain": [
       "<Figure size 640x480 with 2 Axes>"
      ]
     },
     "metadata": {},
     "output_type": "display_data"
    }
   ],
   "source": [
    "evoluation(rdf,pre_data,y_1)"
   ]
  },
  {
   "cell_type": "code",
   "execution_count": 31,
   "id": "98478f82",
   "metadata": {
    "execution": {
     "iopub.execute_input": "2023-03-31T19:39:44.466097Z",
     "iopub.status.busy": "2023-03-31T19:39:44.465681Z",
     "iopub.status.idle": "2023-03-31T19:39:44.879765Z",
     "shell.execute_reply": "2023-03-31T19:39:44.878222Z"
    },
    "jupyter": {
     "source_hidden": true
    },
    "papermill": {
     "duration": 0.428278,
     "end_time": "2023-03-31T19:39:44.883072",
     "exception": false,
     "start_time": "2023-03-31T19:39:44.454794",
     "status": "completed"
    },
    "tags": []
   },
   "outputs": [
    {
     "data": {
      "text/plain": [
       "AdaBoostClassifier(learning_rate=0.5, random_state=1)"
      ]
     },
     "execution_count": 31,
     "metadata": {},
     "output_type": "execute_result"
    }
   ],
   "source": [
    "adc.fit(pre_data,y_1)"
   ]
  },
  {
   "cell_type": "code",
   "execution_count": 32,
   "id": "105b9f4e",
   "metadata": {
    "execution": {
     "iopub.execute_input": "2023-03-31T19:39:44.903677Z",
     "iopub.status.busy": "2023-03-31T19:39:44.903281Z",
     "iopub.status.idle": "2023-03-31T19:39:45.306347Z",
     "shell.execute_reply": "2023-03-31T19:39:45.304872Z"
    },
    "papermill": {
     "duration": 0.41676,
     "end_time": "2023-03-31T19:39:45.309285",
     "exception": false,
     "start_time": "2023-03-31T19:39:44.892525",
     "status": "completed"
    },
    "tags": []
   },
   "outputs": [
    {
     "data": {
      "text/plain": [
       "0.6882460044507384"
      ]
     },
     "execution_count": 32,
     "metadata": {},
     "output_type": "execute_result"
    }
   ],
   "source": [
    "f1_score(y_1,rdf.predict(pre_data))"
   ]
  },
  {
   "cell_type": "code",
   "execution_count": 33,
   "id": "4374fff4",
   "metadata": {
    "execution": {
     "iopub.execute_input": "2023-03-31T19:39:45.328490Z",
     "iopub.status.busy": "2023-03-31T19:39:45.328152Z",
     "iopub.status.idle": "2023-03-31T19:39:45.366835Z",
     "shell.execute_reply": "2023-03-31T19:39:45.366032Z"
    },
    "papermill": {
     "duration": 0.051078,
     "end_time": "2023-03-31T19:39:45.369124",
     "exception": false,
     "start_time": "2023-03-31T19:39:45.318046",
     "status": "completed"
    },
    "tags": []
   },
   "outputs": [],
   "source": [
    "test_data = pd.read_csv('/kaggle/input/e-commerce-shoppers-behaviour-understanding/test_data_v2.csv')"
   ]
  },
  {
   "cell_type": "code",
   "execution_count": 34,
   "id": "5239a824",
   "metadata": {
    "execution": {
     "iopub.execute_input": "2023-03-31T19:39:45.388613Z",
     "iopub.status.busy": "2023-03-31T19:39:45.388269Z",
     "iopub.status.idle": "2023-03-31T19:39:45.400281Z",
     "shell.execute_reply": "2023-03-31T19:39:45.399017Z"
    },
    "papermill": {
     "duration": 0.024463,
     "end_time": "2023-03-31T19:39:45.402881",
     "exception": false,
     "start_time": "2023-03-31T19:39:45.378418",
     "status": "completed"
    },
    "tags": []
   },
   "outputs": [],
   "source": [
    "x_test = pre_process_1(test_data)"
   ]
  },
  {
   "cell_type": "code",
   "execution_count": 35,
   "id": "0a887a6c",
   "metadata": {
    "execution": {
     "iopub.execute_input": "2023-03-31T19:39:45.426259Z",
     "iopub.status.busy": "2023-03-31T19:39:45.425124Z",
     "iopub.status.idle": "2023-03-31T19:39:45.601593Z",
     "shell.execute_reply": "2023-03-31T19:39:45.600450Z"
    },
    "papermill": {
     "duration": 0.190995,
     "end_time": "2023-03-31T19:39:45.604004",
     "exception": false,
     "start_time": "2023-03-31T19:39:45.413009",
     "status": "completed"
    },
    "tags": []
   },
   "outputs": [],
   "source": [
    "prediction=rdf.predict(x_test)"
   ]
  },
  {
   "cell_type": "code",
   "execution_count": 36,
   "id": "8ddb6138",
   "metadata": {
    "execution": {
     "iopub.execute_input": "2023-03-31T19:39:45.625924Z",
     "iopub.status.busy": "2023-03-31T19:39:45.624974Z",
     "iopub.status.idle": "2023-03-31T19:39:45.651231Z",
     "shell.execute_reply": "2023-03-31T19:39:45.649746Z"
    },
    "papermill": {
     "duration": 0.039807,
     "end_time": "2023-03-31T19:39:45.654151",
     "exception": false,
     "start_time": "2023-03-31T19:39:45.614344",
     "status": "completed"
    },
    "tags": []
   },
   "outputs": [],
   "source": [
    "submission=pd.DataFrame(columns=['id','Made_Purchase'])\n",
    "\n",
    "submission['id']=[i for i in range(len(prediction))]\n",
    "\n",
    "submission.Made_Purchase = prediction\n",
    "\n",
    "submission.to_csv('submission.csv',index=False)"
   ]
  },
  {
   "cell_type": "code",
   "execution_count": null,
   "id": "9e6453a1",
   "metadata": {
    "papermill": {
     "duration": 0.00971,
     "end_time": "2023-03-31T19:39:45.673267",
     "exception": false,
     "start_time": "2023-03-31T19:39:45.663557",
     "status": "completed"
    },
    "tags": []
   },
   "outputs": [],
   "source": []
  }
 ],
 "metadata": {
  "kernelspec": {
   "display_name": "Python 3",
   "language": "python",
   "name": "python3"
  },
  "language_info": {
   "codemirror_mode": {
    "name": "ipython",
    "version": 3
   },
   "file_extension": ".py",
   "mimetype": "text/x-python",
   "name": "python",
   "nbconvert_exporter": "python",
   "pygments_lexer": "ipython3",
   "version": "3.7.12"
  },
  "papermill": {
   "default_parameters": {},
   "duration": 22.45079,
   "end_time": "2023-03-31T19:39:46.606785",
   "environment_variables": {},
   "exception": null,
   "input_path": "__notebook__.ipynb",
   "output_path": "__notebook__.ipynb",
   "parameters": {},
   "start_time": "2023-03-31T19:39:24.155995",
   "version": "2.4.0"
  }
 },
 "nbformat": 4,
 "nbformat_minor": 5
}
